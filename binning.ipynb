{
 "cells": [
  {
   "cell_type": "code",
   "execution_count": 388,
   "id": "7643c1d8",
   "metadata": {},
   "outputs": [],
   "source": [
    "from pl_packages import *\n",
    "from tail_functions import *\n",
    "from plotting_functions import *\n",
    "import math"
   ]
  },
  {
   "cell_type": "code",
   "execution_count": 392,
   "id": "c09f8ec1",
   "metadata": {},
   "outputs": [],
   "source": [
    "def pl_reg_fit_vec_av(sample,x_m):\n",
    "    pl_sample=sample[sample>=x_m]\n",
    "    y_n=len(pl_sample)/len(sample)\n",
    "    x,y=tail(pl_sample)\n",
    "    n=len(pareto_sample)\n",
    "    betas=[]\n",
    "    for i in range(n-1):\n",
    "        sample_sub=sample[i:]\n",
    "        pl_reg_fit_vec_sub=pl_reg_fit(sample_sub,x_m)\n",
    "        betas.append(pl_reg_fit_vec_sub[3])\n",
    "    beta=np.mean(betas)\n",
    "    alpha=y_n*x_m**(-beta)\n",
    "    y_reg_pred=alpha*x**(beta)\n",
    "    return betas\n",
    "\n",
    "def get_freq(sample):\n",
    "    n_s=len(sample)\n",
    "    sample_sort=np.sort(sample)\n",
    "    bins=np.arange(sample_sort[0],sample_sort[-1]+1,1)\n",
    "    n_b=len(bins)\n",
    "    bins_freq=np.zeros(n_b)\n",
    "    i=0\n",
    "    for j in range(n_b-1):\n",
    "        c=0\n",
    "        while i<n_s:\n",
    "            if bins[j]<=sample_sort[i]<bins[j+1]:\n",
    "                c+=1\n",
    "                i+=1\n",
    "            else:\n",
    "                bins_freq[j]=c\n",
    "                break\n",
    "                \n",
    "    bins_freq[n_b-2]=n_s-np.sum(bins_freq)\n",
    "    s=np.sum(bins_freq)\n",
    "    ind=np.where(bins_freq>0)[0]\n",
    "        \n",
    "    return bins[ind], bins_freq[ind]/s\n",
    "\n",
    "def linear_binning(x, width = 1):\n",
    "    x_min = min(x)\n",
    "    x_max = max(x)\n",
    "    \n",
    "    bins = np.arange(x_min, x_max + width, width)\n",
    "    counts, edges = np.histogram(x, bins=bins)\n",
    "    \n",
    "    centers = list(map(lambda X, Y: np.sqrt(X * Y), edges[:-1], edges[1:]))\n",
    "    \n",
    "    probs = counts / np.sum(counts)\n",
    "    \n",
    "    widths = bins[1:] - bins[:-1]\n",
    "    probs = probs / widths  # normalize\n",
    "    \n",
    "    return zip(*((center, count, prob) for center, count, prob, in zip(centers, counts, probs) if count > 0)"
   ]
  },
  {
   "cell_type": "code",
   "execution_count": 422,
   "id": "06e037f4",
   "metadata": {},
   "outputs": [],
   "source": [
    "b=2\n",
    "x_m=10\n",
    "n=5\n",
    "\n",
    "pareto_sample=pareto.rvs(b, scale=x_m, size=n)\n",
    "pareto_sample_sort=np.sort(pareto_sample)"
   ]
  },
  {
   "cell_type": "code",
   "execution_count": 423,
   "id": "609e65ae",
   "metadata": {},
   "outputs": [
    {
     "name": "stdout",
     "output_type": "stream",
     "text": [
      "37.931231046434476 1.5789969378253224\n"
     ]
    }
   ],
   "source": [
    "pl_reg_fit_vec=pl_reg_fit(pareto_sample,x_m)\n",
    "\n",
    "print(pl_reg_fit_vec[2],pl_reg_fit_vec[3])"
   ]
  },
  {
   "cell_type": "code",
   "execution_count": 424,
   "id": "e356ec88",
   "metadata": {},
   "outputs": [
    {
     "data": {
      "text/plain": [
       "array([14.42382424, 14.96501969, 15.54434951, 15.99791173, 19.17758958])"
      ]
     },
     "execution_count": 424,
     "metadata": {},
     "output_type": "execute_result"
    }
   ],
   "source": [
    "pareto_sample_sort"
   ]
  },
  {
   "cell_type": "code",
   "execution_count": 425,
   "id": "ccb58200",
   "metadata": {},
   "outputs": [
    {
     "data": {
      "text/plain": [
       "(array([2, 2, 0, 0, 1]),\n",
       " array([14.42382424, 15.42382424, 16.42382424, 17.42382424, 18.42382424,\n",
       "        19.42382424]))"
      ]
     },
     "execution_count": 425,
     "metadata": {},
     "output_type": "execute_result"
    }
   ],
   "source": [
    "width=1\n",
    "bins=np.arange(pareto_sample_sort[0],pareto_sample_sort[-1]+width,width)\n",
    "counts, edges = np.histogram(pareto_sample,bins=bins)"
   ]
  },
  {
   "cell_type": "code",
   "execution_count": 380,
   "id": "be36a721",
   "metadata": {},
   "outputs": [
    {
     "data": {
      "text/plain": [
       "1.5735798120084832"
      ]
     },
     "execution_count": 380,
     "metadata": {},
     "output_type": "execute_result"
    }
   ],
   "source": [
    "np.mean(pl_reg_fit_vec_av(pareto_sample,x_m))"
   ]
  },
  {
   "cell_type": "code",
   "execution_count": 381,
   "id": "300a2111",
   "metadata": {},
   "outputs": [
    {
     "name": "stdout",
     "output_type": "stream",
     "text": [
      "20.375933562801087 1.30911751590943\n"
     ]
    }
   ],
   "source": [
    "pl_reg_fit_vec1=pl_reg_fit(pareto_sample[91:],x_m)\n",
    "\n",
    "print(pl_reg_fit_vec1[2],pl_reg_fit_vec1[3])"
   ]
  },
  {
   "cell_type": "code",
   "execution_count": 382,
   "id": "38f0c34b",
   "metadata": {},
   "outputs": [],
   "source": [
    "x,y=tail(pareto_sample)"
   ]
  },
  {
   "cell_type": "code",
   "execution_count": 383,
   "id": "22b6bbb3",
   "metadata": {},
   "outputs": [
    {
     "data": {
      "text/plain": [
       "[<matplotlib.lines.Line2D at 0x7f61d2148250>]"
      ]
     },
     "execution_count": 383,
     "metadata": {},
     "output_type": "execute_result"
    },
    {
     "data": {
      "image/png": "[encoded data removed]",
      "text/plain": [
       "<Figure size 640x480 with 1 Axes>"
      ]
     },
     "metadata": {},
     "output_type": "display_data"
    }
   ],
   "source": [
    "plt.loglog(x,y,'o')\n",
    "\n",
    "plt.loglog(pl_reg_fit_vec[0],pl_reg_fit_vec[1],color='blue',linestyle='-.',label='LR')"
   ]
  },
  {
   "cell_type": "code",
   "execution_count": 409,
   "id": "d5610b7e",
   "metadata": {},
   "outputs": [
    {
     "name": "stdout",
     "output_type": "stream",
     "text": [
      "[ 10.04554953  11.04554953  12.04554953  13.04554953  14.04554953\n",
      "  15.04554953  17.04554953  18.04554953  19.04554953  20.04554953\n",
      "  21.04554953  22.04554953  23.04554953  24.04554953  27.04554953\n",
      "  35.04554953  44.04554953  53.04554953  89.04554953 106.04554953] [0.26 0.06 0.14 0.08 0.08 0.04 0.02 0.02 0.06 0.02 0.02 0.02 0.04 0.02\n",
      " 0.02 0.02 0.02 0.02 0.02 0.02]\n"
     ]
    }
   ],
   "source": [
    "bins,bins_freq=get_freq(pareto_sample)\n",
    "\n",
    "print(bins,bins_freq)"
   ]
  },
  {
   "cell_type": "code",
   "execution_count": 385,
   "id": "d70e2e2a",
   "metadata": {},
   "outputs": [
    {
     "data": {
      "text/plain": [
       "[<matplotlib.lines.Line2D at 0x7f61d255af90>]"
      ]
     },
     "execution_count": 385,
     "metadata": {},
     "output_type": "execute_result"
    },
    {
     "data": {
      "image/png": "[encoded data removed]",
      "text/plain": [
       "<Figure size 640x480 with 1 Axes>"
      ]
     },
     "metadata": {},
     "output_type": "display_data"
    }
   ],
   "source": [
    "plt.loglog(bins,bins_freq,'o')"
   ]
  },
  {
   "cell_type": "code",
   "execution_count": null,
   "id": "7cf459aa",
   "metadata": {},
   "outputs": [],
   "source": []
  }
 ],
 "metadata": {
  "kernelspec": {
   "display_name": "Python 3 (ipykernel)",
   "language": "python",
   "name": "python3"
  },
  "language_info": {
   "codemirror_mode": {
    "name": "ipython",
    "version": 3
   },
   "file_extension": ".py",
   "mimetype": "text/x-python",
   "name": "python",
   "nbconvert_exporter": "python",
   "pygments_lexer": "ipython3",
   "version": "3.7.6"
  }
 },
 "nbformat": 4,
 "nbformat_minor": 5
}
